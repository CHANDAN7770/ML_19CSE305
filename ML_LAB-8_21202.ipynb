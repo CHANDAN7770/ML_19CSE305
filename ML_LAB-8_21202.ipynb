{
 "cells": [
  {
   "cell_type": "code",
   "execution_count": null,
   "metadata": {},
   "outputs": [],
   "source": [
    "ML LAB-8 \n",
    "S NAGASAI CHANDAN \n",
    "BL.EN.U4CSE21202"
   ]
  },
  {
   "cell_type": "code",
   "execution_count": 1,
   "metadata": {
    "colab": {
     "base_uri": "https://localhost:8080/"
    },
    "id": "hJfcMRlbKR1B",
    "outputId": "c4949563-67cd-4a8f-804d-b5e083356013"
   },
   "outputs": [
    {
     "name": "stdout",
     "output_type": "stream",
     "text": [
      "Prior Probabilities for 'buys_computer' classes:\n",
      "yes    0.642857\n",
      "no     0.357143\n",
      "Name: buys_computer, dtype: float64\n"
     ]
    }
   ],
   "source": [
    "#A1\n",
    "import pandas as pd\n",
    "\n",
    "data = {\n",
    "    'age': ['<=30', '<=30', '31…40', '>40', '>40', '>40', '31…40', '<=30', '<=30', '>40',\n",
    "            '<=30', '31…40', '31…40', '>40'],\n",
    "    'income': ['high', 'high', 'high', 'medium', 'low', 'low', 'low', 'medium', 'low',\n",
    "               'medium', 'medium', 'medium', 'high', 'medium'],\n",
    "    'student': ['no', 'no', 'no', 'no', 'yes', 'yes', 'yes', 'no', 'yes', 'yes', 'yes',\n",
    "                'no', 'yes', 'no'],\n",
    "    'credit_rating': ['fair', 'excellent', 'fair', 'fair', 'fair', 'excellent', 'excellent',\n",
    "                      'fair', 'fair', 'fair', 'excellent', 'excellent', 'fair', 'excellent'],\n",
    "    'buys_computer': ['no', 'no', 'yes', 'yes', 'yes', 'no', 'yes', 'no', 'yes', 'yes',\n",
    "                      'yes', 'yes', 'yes', 'no']\n",
    "}\n",
    "\n",
    "df = pd.DataFrame(data)\n",
    "\n",
    "prior_prob = df['buys_computer'].value_counts(normalize=True)\n",
    "print(\"Prior Probabilities for 'buys_computer' classes:\")\n",
    "print(prior_prob)\n"
   ]
  },
  {
   "cell_type": "code",
   "execution_count": 1,
   "metadata": {},
   "outputs": [
    {
     "ename": "ModuleNotFoundError",
     "evalue": "No module named 'pandas'",
     "output_type": "error",
     "traceback": [
      "\u001b[1;31m---------------------------------------------------------------------------\u001b[0m",
      "\u001b[1;31mModuleNotFoundError\u001b[0m                       Traceback (most recent call last)",
      "\u001b[1;32mc:\\Users\\cheta\\Downloads\\BL_EN_U4CSE21201_LAB8.ipynb Cell 2\u001b[0m line \u001b[0;36m2\n\u001b[0;32m      <a href='vscode-notebook-cell:/c%3A/Users/cheta/Downloads/BL_EN_U4CSE21201_LAB8.ipynb#W5sZmlsZQ%3D%3D?line=0'>1</a>\u001b[0m \u001b[39m#A1\u001b[39;00m\n\u001b[1;32m----> <a href='vscode-notebook-cell:/c%3A/Users/cheta/Downloads/BL_EN_U4CSE21201_LAB8.ipynb#W5sZmlsZQ%3D%3D?line=1'>2</a>\u001b[0m \u001b[39mimport\u001b[39;00m \u001b[39mpandas\u001b[39;00m \u001b[39mas\u001b[39;00m \u001b[39mpd\u001b[39;00m\n\u001b[0;32m      <a href='vscode-notebook-cell:/c%3A/Users/cheta/Downloads/BL_EN_U4CSE21201_LAB8.ipynb#W5sZmlsZQ%3D%3D?line=3'>4</a>\u001b[0m data \u001b[39m=\u001b[39m {\n\u001b[0;32m      <a href='vscode-notebook-cell:/c%3A/Users/cheta/Downloads/BL_EN_U4CSE21201_LAB8.ipynb#W5sZmlsZQ%3D%3D?line=4'>5</a>\u001b[0m     \u001b[39m'\u001b[39m\u001b[39mage\u001b[39m\u001b[39m'\u001b[39m: [\u001b[39m'\u001b[39m\u001b[39m<=30\u001b[39m\u001b[39m'\u001b[39m, \u001b[39m'\u001b[39m\u001b[39m<=30\u001b[39m\u001b[39m'\u001b[39m, \u001b[39m'\u001b[39m\u001b[39m31…40\u001b[39m\u001b[39m'\u001b[39m, \u001b[39m'\u001b[39m\u001b[39m>40\u001b[39m\u001b[39m'\u001b[39m, \u001b[39m'\u001b[39m\u001b[39m>40\u001b[39m\u001b[39m'\u001b[39m, \u001b[39m'\u001b[39m\u001b[39m>40\u001b[39m\u001b[39m'\u001b[39m, \u001b[39m'\u001b[39m\u001b[39m31…40\u001b[39m\u001b[39m'\u001b[39m, \u001b[39m'\u001b[39m\u001b[39m<=30\u001b[39m\u001b[39m'\u001b[39m, \u001b[39m'\u001b[39m\u001b[39m<=30\u001b[39m\u001b[39m'\u001b[39m, \u001b[39m'\u001b[39m\u001b[39m>40\u001b[39m\u001b[39m'\u001b[39m,\n\u001b[0;32m      <a href='vscode-notebook-cell:/c%3A/Users/cheta/Downloads/BL_EN_U4CSE21201_LAB8.ipynb#W5sZmlsZQ%3D%3D?line=5'>6</a>\u001b[0m             \u001b[39m'\u001b[39m\u001b[39m<=30\u001b[39m\u001b[39m'\u001b[39m, \u001b[39m'\u001b[39m\u001b[39m31…40\u001b[39m\u001b[39m'\u001b[39m, \u001b[39m'\u001b[39m\u001b[39m31…40\u001b[39m\u001b[39m'\u001b[39m, \u001b[39m'\u001b[39m\u001b[39m>40\u001b[39m\u001b[39m'\u001b[39m],\n\u001b[1;32m   (...)\u001b[0m\n\u001b[0;32m     <a href='vscode-notebook-cell:/c%3A/Users/cheta/Downloads/BL_EN_U4CSE21201_LAB8.ipynb#W5sZmlsZQ%3D%3D?line=13'>14</a>\u001b[0m                       \u001b[39m'\u001b[39m\u001b[39myes\u001b[39m\u001b[39m'\u001b[39m, \u001b[39m'\u001b[39m\u001b[39myes\u001b[39m\u001b[39m'\u001b[39m, \u001b[39m'\u001b[39m\u001b[39myes\u001b[39m\u001b[39m'\u001b[39m, \u001b[39m'\u001b[39m\u001b[39mno\u001b[39m\u001b[39m'\u001b[39m]\n\u001b[0;32m     <a href='vscode-notebook-cell:/c%3A/Users/cheta/Downloads/BL_EN_U4CSE21201_LAB8.ipynb#W5sZmlsZQ%3D%3D?line=14'>15</a>\u001b[0m }\n\u001b[0;32m     <a href='vscode-notebook-cell:/c%3A/Users/cheta/Downloads/BL_EN_U4CSE21201_LAB8.ipynb#W5sZmlsZQ%3D%3D?line=16'>17</a>\u001b[0m df \u001b[39m=\u001b[39m pd\u001b[39m.\u001b[39mDataFrame(data)\n",
      "\u001b[1;31mModuleNotFoundError\u001b[0m: No module named 'pandas'"
     ]
    }
   ],
   "source": [
    "\n",
    "#A1\n",
    "import pandas as pd\n",
    "\n",
    "data = {\n",
    "    'age': ['<=30', '<=30', '31…40', '>40', '>40', '>40', '31…40', '<=30', '<=30', '>40',\n",
    "            '<=30', '31…40', '31…40', '>40'],\n",
    "    'income': ['high', 'high', 'high', 'medium', 'low', 'low', 'low', 'medium', 'low',\n",
    "               'medium', 'medium', 'medium', 'high', 'medium'],\n",
    "    'student': ['no', 'no', 'no', 'no', 'yes', 'yes', 'yes', 'no', 'yes', 'yes', 'yes',\n",
    "                'no', 'yes', 'no'],\n",
    "    'credit_rating': ['fair', 'excellent', 'fair', 'fair', 'fair', 'excellent', 'excellent',\n",
    "                      'fair', 'fair', 'fair', 'excellent', 'excellent', 'fair', 'excellent'],\n",
    "    'buys_computer': ['no', 'no', 'yes', 'yes', 'yes', 'no', 'yes', 'no', 'yes', 'yes',\n",
    "                      'yes', 'yes', 'yes', 'no']\n",
    "}\n",
    "\n",
    "df = pd.DataFrame(data)\n",
    "\n",
    "prior_prob = df['buys_computer'].value_counts(normalize=True)\n",
    "print(\"Prior Probabilities for 'buys_computer' classes:\")\n",
    "print(prior_prob)\n"
   ]
  },
  {
   "cell_type": "code",
   "execution_count": null,
   "metadata": {
    "colab": {
     "base_uri": "https://localhost:8080/"
    },
    "id": "fEO42nIFziDM",
    "outputId": "cbbf09b8-9f0d-4bf0-f894-fcd96c4d736b"
   },
   "outputs": [
    {
     "name": "stdout",
     "output_type": "stream",
     "text": [
      "Class-Conditional Density for 'age':\n",
      "buys_computer  age  \n",
      "no             <=30     0.214286\n",
      "               >40      0.142857\n",
      "yes            31…40    0.285714\n",
      "               <=30     0.142857\n",
      "               >40      0.214286\n",
      "dtype: float64\n",
      "\n",
      "Class-Conditional Density for 'income':\n",
      "buys_computer  income\n",
      "no             high      0.142857\n",
      "               low       0.071429\n",
      "               medium    0.142857\n",
      "yes            high      0.142857\n",
      "               low       0.214286\n",
      "               medium    0.285714\n",
      "dtype: float64\n",
      "\n",
      "Class-Conditional Density for 'student':\n",
      "buys_computer  student\n",
      "no             no         0.285714\n",
      "               yes        0.071429\n",
      "yes            no         0.214286\n",
      "               yes        0.428571\n",
      "dtype: float64\n",
      "\n",
      "Class-Conditional Density for 'credit_rating':\n",
      "buys_computer  credit_rating\n",
      "no             excellent        0.214286\n",
      "               fair             0.142857\n",
      "yes            excellent        0.214286\n",
      "               fair             0.428571\n",
      "dtype: float64\n",
      "\n"
     ]
    }
   ],
   "source": [
    "#A2\n",
    "import pandas as pd\n",
    "\n",
    "data = {\n",
    "    'age': ['<=30', '<=30', '31…40', '>40', '>40', '>40', '31…40', '<=30', '<=30', '>40',\n",
    "            '<=30', '31…40', '31…40', '>40'],\n",
    "    'income': ['high', 'high', 'high', 'medium', 'low', 'low', 'low', 'medium', 'low',\n",
    "               'medium', 'medium', 'medium', 'high', 'medium'],\n",
    "    'student': ['no', 'no', 'no', 'no', 'yes', 'yes', 'yes', 'no', 'yes', 'yes', 'yes',\n",
    "                'no', 'yes', 'no'],\n",
    "    'credit_rating': ['fair', 'excellent', 'fair', 'fair', 'fair', 'excellent', 'excellent',\n",
    "                      'fair', 'fair', 'fair', 'excellent', 'excellent', 'fair', 'excellent'],\n",
    "    'buys_computer': ['no', 'no', 'yes', 'yes', 'yes', 'no', 'yes', 'no', 'yes', 'yes',\n",
    "                      'yes', 'yes', 'yes', 'no']\n",
    "}\n",
    "\n",
    "df = pd.DataFrame(data)\n",
    "\n",
    "class_conditional_densities = {}\n",
    "for feature in df.columns[:-1]:\n",
    "    class_conditional_densities[feature] = df.groupby(['buys_computer', feature]).size() / len(df)\n",
    "\n",
    "for feature, density in class_conditional_densities.items():\n",
    "    print(f\"Class-Conditional Density for '{feature}':\")\n",
    "    print(density)\n",
    "    print()\n",
    "\n",
    "for feature, density in class_conditional_densities.items():\n",
    "    if density.isnull().any():\n",
    "        print(f\"At least one class-conditional density for '{feature}' has zero values.\")\n"
   ]
  },
  {
   "cell_type": "code",
   "execution_count": 2,
   "metadata": {
    "colab": {
     "base_uri": "https://localhost:8080/"
    },
    "id": "xWwYJ_E2z8wG",
    "outputId": "8421ec3e-d8c7-49d3-b001-8abb52978b38"
   },
   "outputs": [
    {
     "name": "stdout",
     "output_type": "stream",
     "text": [
      "test between 'age' and 'income':\n",
      "statistic: 3.3249999999999997\n",
      "P-value: 0.5049810026322079\n",
      "\n",
      "test between 'age' and 'student':\n",
      "statistic: 0.4\n",
      "P-value: 0.8187307530779818\n",
      "\n",
      "test between 'age' and 'credit_rating':\n",
      "statistic: 0.11666666666666664\n",
      "P-value: 0.9433354498734922\n",
      "\n",
      "test between 'income' and 'student':\n",
      "statistic: 5.666666666666666\n",
      "P-value: 0.05881647164242991\n",
      "\n",
      "test between 'income' and 'credit_rating':\n",
      "statistic: 0.7291666666666666\n",
      "P-value: 0.6944859597510076\n",
      "\n",
      "test between 'student' and 'credit_rating':\n",
      "statistic: 0.0\n",
      "P-value: 1.0\n",
      "\n"
     ]
    }
   ],
   "source": [
    "#A3\n",
    "import pandas as pd\n",
    "from scipy.stats import chi2_contingency\n",
    "\n",
    "data = {\n",
    "    'age': ['<=30', '<=30', '31…40', '>40', '>40', '>40', '31…40', '<=30', '<=30', '>40',\n",
    "            '<=30', '31…40', '31…40', '>40'],\n",
    "    'income': ['high', 'high', 'high', 'medium', 'low', 'low', 'low', 'medium', 'low',\n",
    "               'medium', 'medium', 'medium', 'high', 'medium'],\n",
    "    'student': ['no', 'no', 'no', 'no', 'yes', 'yes', 'yes', 'no', 'yes', 'yes', 'yes',\n",
    "                'no', 'yes', 'no'],\n",
    "    'credit_rating': ['fair', 'excellent', 'fair', 'fair', 'fair', 'excellent', 'excellent',\n",
    "                      'fair', 'fair', 'fair', 'excellent', 'excellent', 'fair', 'excellent'],\n",
    "    'buys_computer': ['no', 'no', 'yes', 'yes', 'yes', 'no', 'yes', 'no', 'yes', 'yes',\n",
    "                      'yes', 'yes', 'yes', 'no']\n",
    "}\n",
    "\n",
    "df = pd.DataFrame(data)\n",
    "\n",
    "features = ['age', 'income', 'student', 'credit_rating']\n",
    "\n",
    "for i in range(len(features)):\n",
    "    for j in range(i + 1, len(features)):\n",
    "        contingency_table = pd.crosstab(df[features[i]], df[features[j]])\n",
    "        chi2, p, dof, expected = chi2_contingency(contingency_table)\n",
    "        print(f\"test between '{features[i]}' and '{features[j]}':\")\n",
    "        print(f\"statistic: {chi2}\")\n",
    "        print(f\"P-value: {p}\")\n",
    "        print(\"\")\n",
    "\n"
   ]
  },
  {
   "cell_type": "code",
   "execution_count": 5,
   "metadata": {
    "colab": {
     "base_uri": "https://localhost:8080/",
     "height": 407
    },
    "id": "uFmWrQtI6j39",
    "outputId": "851fa403-1f71-4c3c-f2a5-eec46ccd9a9c"
   },
   "outputs": [
    {
     "ename": "NameError",
     "evalue": "name 'LabelEncoder' is not defined",
     "output_type": "error",
     "traceback": [
      "\u001b[1;31m---------------------------------------------------------------------------\u001b[0m",
      "\u001b[1;31mNameError\u001b[0m                                 Traceback (most recent call last)",
      "Cell \u001b[1;32mIn[5], line 14\u001b[0m\n\u001b[0;32m     11\u001b[0m Tr_y \u001b[38;5;241m=\u001b[39m [\u001b[38;5;124m'\u001b[39m\u001b[38;5;124mno\u001b[39m\u001b[38;5;124m'\u001b[39m, \u001b[38;5;124m'\u001b[39m\u001b[38;5;124mno\u001b[39m\u001b[38;5;124m'\u001b[39m, \u001b[38;5;124m'\u001b[39m\u001b[38;5;124myes\u001b[39m\u001b[38;5;124m'\u001b[39m, \u001b[38;5;124m'\u001b[39m\u001b[38;5;124myes\u001b[39m\u001b[38;5;124m'\u001b[39m, \u001b[38;5;124m'\u001b[39m\u001b[38;5;124myes\u001b[39m\u001b[38;5;124m'\u001b[39m, \u001b[38;5;124m'\u001b[39m\u001b[38;5;124mno\u001b[39m\u001b[38;5;124m'\u001b[39m, \u001b[38;5;124m'\u001b[39m\u001b[38;5;124myes\u001b[39m\u001b[38;5;124m'\u001b[39m, \u001b[38;5;124m'\u001b[39m\u001b[38;5;124mno\u001b[39m\u001b[38;5;124m'\u001b[39m, \u001b[38;5;124m'\u001b[39m\u001b[38;5;124myes\u001b[39m\u001b[38;5;124m'\u001b[39m, \u001b[38;5;124m'\u001b[39m\u001b[38;5;124myes\u001b[39m\u001b[38;5;124m'\u001b[39m, \u001b[38;5;124m'\u001b[39m\u001b[38;5;124myes\u001b[39m\u001b[38;5;124m'\u001b[39m, \u001b[38;5;124m'\u001b[39m\u001b[38;5;124myes\u001b[39m\u001b[38;5;124m'\u001b[39m, \u001b[38;5;124m'\u001b[39m\u001b[38;5;124myes\u001b[39m\u001b[38;5;124m'\u001b[39m, \u001b[38;5;124m'\u001b[39m\u001b[38;5;124mno\u001b[39m\u001b[38;5;124m'\u001b[39m]\n\u001b[0;32m     12\u001b[0m Tr_X \u001b[38;5;241m=\u001b[39m np\u001b[38;5;241m.\u001b[39marray(Tr_X)\n\u001b[1;32m---> 14\u001b[0m label_encoders \u001b[38;5;241m=\u001b[39m [LabelEncoder() \u001b[38;5;28;01mfor\u001b[39;00m _ \u001b[38;5;129;01min\u001b[39;00m \u001b[38;5;28mrange\u001b[39m(Tr_X\u001b[38;5;241m.\u001b[39mshape[\u001b[38;5;241m1\u001b[39m])]\n\u001b[0;32m     15\u001b[0m \u001b[38;5;28;01mfor\u001b[39;00m i, encoder \u001b[38;5;129;01min\u001b[39;00m \u001b[38;5;28menumerate\u001b[39m(label_encoders):\n\u001b[0;32m     16\u001b[0m     Tr_X[:, i] \u001b[38;5;241m=\u001b[39m encoder\u001b[38;5;241m.\u001b[39mfit_transform(Tr_X[:, i])\n",
      "Cell \u001b[1;32mIn[5], line 14\u001b[0m, in \u001b[0;36m<listcomp>\u001b[1;34m(.0)\u001b[0m\n\u001b[0;32m     11\u001b[0m Tr_y \u001b[38;5;241m=\u001b[39m [\u001b[38;5;124m'\u001b[39m\u001b[38;5;124mno\u001b[39m\u001b[38;5;124m'\u001b[39m, \u001b[38;5;124m'\u001b[39m\u001b[38;5;124mno\u001b[39m\u001b[38;5;124m'\u001b[39m, \u001b[38;5;124m'\u001b[39m\u001b[38;5;124myes\u001b[39m\u001b[38;5;124m'\u001b[39m, \u001b[38;5;124m'\u001b[39m\u001b[38;5;124myes\u001b[39m\u001b[38;5;124m'\u001b[39m, \u001b[38;5;124m'\u001b[39m\u001b[38;5;124myes\u001b[39m\u001b[38;5;124m'\u001b[39m, \u001b[38;5;124m'\u001b[39m\u001b[38;5;124mno\u001b[39m\u001b[38;5;124m'\u001b[39m, \u001b[38;5;124m'\u001b[39m\u001b[38;5;124myes\u001b[39m\u001b[38;5;124m'\u001b[39m, \u001b[38;5;124m'\u001b[39m\u001b[38;5;124mno\u001b[39m\u001b[38;5;124m'\u001b[39m, \u001b[38;5;124m'\u001b[39m\u001b[38;5;124myes\u001b[39m\u001b[38;5;124m'\u001b[39m, \u001b[38;5;124m'\u001b[39m\u001b[38;5;124myes\u001b[39m\u001b[38;5;124m'\u001b[39m, \u001b[38;5;124m'\u001b[39m\u001b[38;5;124myes\u001b[39m\u001b[38;5;124m'\u001b[39m, \u001b[38;5;124m'\u001b[39m\u001b[38;5;124myes\u001b[39m\u001b[38;5;124m'\u001b[39m, \u001b[38;5;124m'\u001b[39m\u001b[38;5;124myes\u001b[39m\u001b[38;5;124m'\u001b[39m, \u001b[38;5;124m'\u001b[39m\u001b[38;5;124mno\u001b[39m\u001b[38;5;124m'\u001b[39m]\n\u001b[0;32m     12\u001b[0m Tr_X \u001b[38;5;241m=\u001b[39m np\u001b[38;5;241m.\u001b[39marray(Tr_X)\n\u001b[1;32m---> 14\u001b[0m label_encoders \u001b[38;5;241m=\u001b[39m [LabelEncoder() \u001b[38;5;28;01mfor\u001b[39;00m _ \u001b[38;5;129;01min\u001b[39;00m \u001b[38;5;28mrange\u001b[39m(Tr_X\u001b[38;5;241m.\u001b[39mshape[\u001b[38;5;241m1\u001b[39m])]\n\u001b[0;32m     15\u001b[0m \u001b[38;5;28;01mfor\u001b[39;00m i, encoder \u001b[38;5;129;01min\u001b[39;00m \u001b[38;5;28menumerate\u001b[39m(label_encoders):\n\u001b[0;32m     16\u001b[0m     Tr_X[:, i] \u001b[38;5;241m=\u001b[39m encoder\u001b[38;5;241m.\u001b[39mfit_transform(Tr_X[:, i])\n",
      "\u001b[1;31mNameError\u001b[0m: name 'LabelEncoder' is not defined"
     ]
    }
   ],
   "source": [
    "#A4\n",
    "from sklearn.naive_bayes import GaussianNB\n",
    "import numpy as np\n",
    "# Your provided data\n",
    "Tr_X =[\n",
    "    ['<=30', 'high', 'no', 'fair'],\n",
    "    ['<=30', 'high', 'no', 'excellent'],\n",
    "    ['31…40', 'high', 'no', 'fair'],\n",
    "]\n",
    "\n",
    "Tr_y = ['no', 'no', 'yes', 'yes', 'yes', 'no', 'yes', 'no', 'yes', 'yes', 'yes', 'yes', 'yes', 'no']\n",
    "Tr_X = np.array(Tr_X)\n",
    "\n",
    "label_encoders = [LabelEncoder() for _ in range(Tr_X.shape[1])]\n",
    "for i, encoder in enumerate(label_encoders):\n",
    "    Tr_X[:, i] = encoder.fit_transform(Tr_X[:, i])\n",
    "\n",
    "\n",
    "model = GaussianNB()\n",
    "model.fit(Tr_X, Tr_y)\n",
    "\n",
    "predictions = model.predict(Tr_X)\n"
   ]
  },
  {
   "cell_type": "code",
   "execution_count": null,
   "metadata": {
    "colab": {
     "base_uri": "https://localhost:8080/"
    },
    "id": "Mm5OiCi30dPd",
    "outputId": "0ec4a968-2604-4e73-8bc7-5704bca8228d"
   },
   "outputs": [
    {
     "name": "stdout",
     "output_type": "stream",
     "text": [
      "0.37777777777777777\n"
     ]
    }
   ],
   "source": [
    "#A5 1st dataset\n",
    "import pandas as pd\n",
    "\n",
    "# Load the dataset\n",
    "dataset = pd.read_excel('/content/DS to B.tech.xlsx')\n",
    "\n",
    "# Separate the features and labels\n",
    "X = dataset[['Id']]\n",
    "y = dataset['Label']\n",
    "\n",
    "# Split the data into training and testing sets\n",
    "X_train, X_test, y_train, y_test = train_test_split(X, y, test_size=0.2, random_state=42)\n",
    "\n",
    "# Create a Gaussian Naive Bayes classifier\n",
    "model = GaussianNB()\n",
    "\n",
    "# Train the classifier\n",
    "model.fit(X_train, y_train)\n",
    "\n",
    "# Make predictions on the test set\n",
    "y_pred = model.predict(X_test)\n",
    "\n",
    "# Evaluate the classifier\n",
    "accuracy = accuracy_score(y_test, y_pred)\n",
    "\n",
    "# Print the accuracy\n",
    "print(accuracy)\n"
   ]
  }
 ],
 "metadata": {
  "colab": {
   "provenance": []
  },
  "kernelspec": {
   "display_name": "Python 3 (ipykernel)",
   "language": "python",
   "name": "python3"
  },
  "language_info": {
   "codemirror_mode": {
    "name": "ipython",
    "version": 3
   },
   "file_extension": ".py",
   "mimetype": "text/x-python",
   "name": "python",
   "nbconvert_exporter": "python",
   "pygments_lexer": "ipython3",
   "version": "3.10.11"
  }
 },
 "nbformat": 4,
 "nbformat_minor": 1
}
